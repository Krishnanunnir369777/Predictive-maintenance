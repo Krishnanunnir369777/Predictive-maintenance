{
 "cells": [
  {
   "cell_type": "code",
   "execution_count": 2,
   "id": "8e258c31-65d0-4c83-ad35-fd6e1bbd42ff",
   "metadata": {},
   "outputs": [
    {
     "name": "stdout",
     "output_type": "stream",
     "text": [
      "Running on local URL:  http://127.0.0.1:7861\n",
      "\n",
      "To create a public link, set `share=True` in `launch()`.\n"
     ]
    },
    {
     "data": {
      "text/html": [
       "<div><iframe src=\"http://127.0.0.1:7861/\" width=\"100%\" height=\"500\" allow=\"autoplay; camera; microphone; clipboard-read; clipboard-write;\" frameborder=\"0\" allowfullscreen></iframe></div>"
      ],
      "text/plain": [
       "<IPython.core.display.HTML object>"
      ]
     },
     "metadata": {},
     "output_type": "display_data"
    },
    {
     "data": {
      "text/plain": []
     },
     "execution_count": 2,
     "metadata": {},
     "output_type": "execute_result"
    }
   ],
   "source": [
    "import pickle\n",
    "from sklearn.tree import DecisionTreeClassifier\n",
    "import numpy as np\n",
    "from scipy.io import savemat\n",
    "import gradio as gr\n",
    "\n",
    "# Load the trained model\n",
    "with open('model2_decision_tree_ui.pkl', 'rb') as file:\n",
    "    model = pickle.load(file)\n",
    "\n",
    "# Function to make predictions and save them to a .mat file\n",
    "def predict_maintenance(type_, air_temp, process_temp, rotational_speed, torque, tool_wear, id_):\n",
    "    try:\n",
    "        # Prepare the input features as a 2D array\n",
    "        input_features = [[type_, air_temp, process_temp, rotational_speed, torque, tool_wear, id_]]\n",
    "\n",
    "        # Predict using the model\n",
    "        prediction = model.predict(input_features)\n",
    "\n",
    "        # Load previous predictions if they exist\n",
    "        try:\n",
    "            data = np.load('predictions.npy')\n",
    "            predictions = np.append(data, prediction)\n",
    "        except FileNotFoundError:\n",
    "            predictions = prediction\n",
    "\n",
    "        # Save predictions to a .mat file\n",
    "        savemat('predictions.mat', {'predictions': predictions})\n",
    "\n",
    "        # Also save predictions to a .npy file for future appends\n",
    "        np.save('predictions.npy', predictions)\n",
    "\n",
    "        # Return the prediction\n",
    "        return int(prediction[0])\n",
    "    except Exception as e:\n",
    "        return f\"Error occurred: {str(e)}\"\n",
    "\n",
    "# Define the Gradio interface\n",
    "interface = gr.Interface(\n",
    "    fn=predict_maintenance,  # The prediction function\n",
    "    inputs=[\n",
    "        gr.Slider(0, 2, step=1, label=\"Type\"),  # Accepts integers 0, 1, 2\n",
    "        gr.Number(label=\"Air Temperature\", precision=2),  # Accepts float\n",
    "        gr.Number(label=\"Process Temperature\", precision=2),  # Accepts float\n",
    "        gr.Number(label=\"Rotational Speed\", precision=2),  # Accepts float\n",
    "        gr.Number(label=\"Torque\", precision=2),  # Accepts float\n",
    "        gr.Number(label=\"Tool Wear\", precision=2),  # Accepts float\n",
    "        gr.Number(label=\"ID\", precision=0)  # Accepts integer\n",
    "    ],\n",
    "    outputs=gr.Textbox(label=\"Prediction\"),  # The output is a text prediction\n",
    "    title=\"Predictive Maintenance\",\n",
    "    description=\"Enter the details to predict the maintenance requirements.\"\n",
    ")\n",
    "\n",
    "# Launch the Gradio interface\n",
    "interface.launch()"
   ]
  },
  {
   "cell_type": "code",
   "execution_count": null,
   "id": "86234bb2-dacd-4aa8-ade5-3dae1e81570e",
   "metadata": {},
   "outputs": [],
   "source": []
  }
 ],
 "metadata": {
  "kernelspec": {
   "display_name": "Python 3 (ipykernel)",
   "language": "python",
   "name": "python3"
  },
  "language_info": {
   "codemirror_mode": {
    "name": "ipython",
    "version": 3
   },
   "file_extension": ".py",
   "mimetype": "text/x-python",
   "name": "python",
   "nbconvert_exporter": "python",
   "pygments_lexer": "ipython3",
   "version": "3.12.1"
  }
 },
 "nbformat": 4,
 "nbformat_minor": 5
}
